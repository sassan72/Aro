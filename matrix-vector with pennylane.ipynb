{
 "cells": [
  {
   "cell_type": "code",
   "execution_count": 17,
   "id": "c9fd69e0",
   "metadata": {},
   "outputs": [],
   "source": [
    "from scipy import optimize\n",
    "import pennylane as qml\n",
    "from pennylane import numpy as np\n",
    "from scipy.optimize import newton\n",
    "from scipy.sparse.linalg import lsmr\n",
    "from numdifftools import Jacobian\n",
    "import matplotlib.pyplot as plt\n",
    "from sklearn.preprocessing import normalize\n",
    "\n"
   ]
  },
  {
   "cell_type": "code",
   "execution_count": 18,
   "id": "bfd836a3",
   "metadata": {},
   "outputs": [
    {
     "name": "stdout",
     "output_type": "stream",
     "text": [
      "[[-0.89442719  0.4472136   0.          0.        ]\n",
      " [ 0.40824829 -0.81649658  0.40824829  0.        ]\n",
      " [ 0.          0.40824829 -0.81649658  0.40824829]\n",
      " [ 0.          0.          0.4472136  -0.89442719]]\n"
     ]
    }
   ],
   "source": [
    "#A = np.array([[-2, 1, 0, 0], [1, -2, 1, 0], [0, 1, -2, 1], [0, 0, 1, -2]])\n",
    "A=np.array([[-2/np.sqrt(5), 1/np.sqrt(5), 0., 0.],\n",
    "[1/np.sqrt(6),  -2/np.sqrt(6), 1/np.sqrt(6),  0.],\n",
    "[0., 1/np.sqrt(6),  -2/np.sqrt(6), 1/np.sqrt(6)],\n",
    "[0.,          0. ,        1/np.sqrt(5),  -2/np.sqrt(5)]])\n",
    "\n",
    "print(A)\n",
    "b = np.array([0.5, 0.5, 0.5, 0.5])"
   ]
  },
  {
   "cell_type": "code",
   "execution_count": 19,
   "id": "df063d80",
   "metadata": {},
   "outputs": [],
   "source": [
    "dev = qml.device('lightning.qubit', wires=5)\n",
    "\n",
    "\n",
    "#@qml.qnode(dev1)\n",
    "def statepreparation(X):\n",
    "    \n",
    "    qml.templates.MottonenStatePreparation(X, wires=[3, 4])\n",
    "    \n",
    "    #return qml.state()\n",
    "    \n",
    " \n",
    "    \n",
    "\n",
    "#print(stateper(A[0]))\n",
    "state_p = qml.ctrl(statepreparation, control=[1, 2])"
   ]
  },
  {
   "cell_type": "code",
   "execution_count": 20,
   "id": "717a88bd",
   "metadata": {},
   "outputs": [],
   "source": [
    "#dev = qml.device('lightning.qubit', wires=5)\n",
    "#@qml.qnode(dev)\n",
    "def Matrix_encod(X):\n",
    "    \n",
    "    qml.Hadamard(wires=1)\n",
    "    qml.ctrl(qml.Hadamard, control=1)(wires=2)\n",
    "    state_p(X[0])\n",
    "    ######################\n",
    "    qml.CNOT(wires=[1, 2])\n",
    "    state_p(X[1])\n",
    "    ##################\n",
    "    qml.PauliX(wires=1)\n",
    "    qml.ctrl(qml.Hadamard, control=1)(wires=2)\n",
    "    state_p(X[2])\n",
    "    #######################################\n",
    "    qml.CNOT(wires=[1, 2])\n",
    "    state_p(X[3])\n",
    "    \n",
    "    return qml.state()\n",
    "    "
   ]
  },
  {
   "cell_type": "code",
   "execution_count": 21,
   "id": "b704cd7d",
   "metadata": {},
   "outputs": [],
   "source": [
    "#print(Matrix_encod(A))"
   ]
  },
  {
   "cell_type": "code",
   "execution_count": 22,
   "id": "f07f3c28",
   "metadata": {},
   "outputs": [],
   "source": [
    "Matrix_cont = qml.ctrl(Matrix_encod, control=0)\n",
    "stateb = qml.ctrl(statepreparation, control=0)"
   ]
  },
  {
   "cell_type": "code",
   "execution_count": 23,
   "id": "df6e1a9e",
   "metadata": {},
   "outputs": [],
   "source": [
    "@qml.qnode(dev)\n",
    "def Matrix_Vector_m(X, b):\n",
    "    \n",
    "    qml.Hadamard(wires=[0])\n",
    "    Matrix_cont(X)\n",
    "    qml.PauliX(wires=[0])\n",
    "    qml.ctrl(qml.Hadamard, control=0)(wires=1)\n",
    "    qml.ctrl(qml.Hadamard, control=0)(wires=2)\n",
    "    stateb(b)\n",
    "    qml.PauliX(wires=[0])\n",
    "    qml.Hadamard(wires=[0])\n",
    "    \n",
    "    #return qml.state()\n",
    "    return qml.probs(wires=[0,1,2])\n",
    "    \n",
    "    #return [qml.expval(qml.PauliZ(i)) for i in range(5)]\n",
    "    "
   ]
  },
  {
   "cell_type": "code",
   "execution_count": 24,
   "id": "f5d71f61",
   "metadata": {},
   "outputs": [
    {
     "name": "stdout",
     "output_type": "stream",
     "text": [
      "(<Figure size 792x432 with 1 Axes>, <matplotlib.axes._axes.Axes object at 0x7f06837e5d90>)\n"
     ]
    },
    {
     "data": {
      "image/png": "[encoded data removed]",
      "text/plain": [
       "<Figure size 792x432 with 1 Axes>"
      ]
     },
     "metadata": {},
     "output_type": "display_data"
    }
   ],
   "source": [
    "print(qml.draw_mpl(Matrix_Vector_m)(A, b))"
   ]
  },
  {
   "cell_type": "code",
   "execution_count": 25,
   "id": "e34b81f7",
   "metadata": {},
   "outputs": [
    {
     "name": "stdout",
     "output_type": "stream",
     "text": [
      "[-1.58113883e-01 -3.10862447e-15 -4.55191440e-15 -1.58113883e-01\n",
      "  1.58113883e-01 -7.54951657e-15 -3.33066907e-15  1.58113883e-01]\n"
     ]
    }
   ],
   "source": [
    "results = Matrix_Vector_m(A, b)\n",
    "print(8*results-1)"
   ]
  },
  {
   "cell_type": "code",
   "execution_count": 26,
   "id": "d6da8532",
   "metadata": {},
   "outputs": [],
   "source": [
    "B=np.array([[-2/np.sqrt(5), 1/np.sqrt(5), 0., 0.],\n",
    "[1/np.sqrt(6),  -2/np.sqrt(6), 1/np.sqrt(6),  0.],\n",
    "[0., 1/np.sqrt(6),  -2/np.sqrt(6), 1/np.sqrt(6)],\n",
    "[0.,          0. ,        1/np.sqrt(5),  -2/np.sqrt(5)]])"
   ]
  },
  {
   "cell_type": "code",
   "execution_count": 27,
   "id": "dd4fe4c7",
   "metadata": {},
   "outputs": [
    {
     "name": "stdout",
     "output_type": "stream",
     "text": [
      "[-0.2236068  0.         0.        -0.2236068]\n"
     ]
    }
   ],
   "source": [
    "print(np.matmul(B, b))"
   ]
  },
  {
   "cell_type": "code",
   "execution_count": null,
   "id": "1d3397f1",
   "metadata": {},
   "outputs": [],
   "source": []
  }
 ],
 "metadata": {
  "kernelspec": {
   "display_name": "Python 3",
   "language": "python",
   "name": "python3"
  },
  "language_info": {
   "codemirror_mode": {
    "name": "ipython",
    "version": 3
   },
   "file_extension": ".py",
   "mimetype": "text/x-python",
   "name": "python",
   "nbconvert_exporter": "python",
   "pygments_lexer": "ipython3",
   "version": "3.7.7"
  }
 },
 "nbformat": 4,
 "nbformat_minor": 5
}
